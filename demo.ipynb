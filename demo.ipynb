{
 "cells": [
  {
   "cell_type": "code",
   "execution_count": null,
   "id": "8f930bc1",
   "metadata": {},
   "outputs": [],
   "source": [
    "%load_ext autoreload\n",
    "%autoreload 2"
   ]
  },
  {
   "cell_type": "markdown",
   "id": "bda5cc57",
   "metadata": {},
   "source": [
    "# download data"
   ]
  },
  {
   "cell_type": "code",
   "execution_count": null,
   "id": "4a7d1c98",
   "metadata": {},
   "outputs": [],
   "source": [
    "from OpenAttack.data import data_list"
   ]
  },
  {
   "cell_type": "code",
   "execution_count": null,
   "id": "c61313e6",
   "metadata": {},
   "outputs": [],
   "source": [
    "data_list"
   ]
  },
  {
   "cell_type": "code",
   "execution_count": null,
   "id": "526290df",
   "metadata": {},
   "outputs": [],
   "source": []
  },
  {
   "cell_type": "code",
   "execution_count": null,
   "id": "7f1a071b",
   "metadata": {},
   "outputs": [],
   "source": [
    "for item in data_list:\n",
    "    if item[\"url\"] == \"\":\n",
    "        continue\n",
    "    print(item[\"name\"])\n",
    "    print(item[\"name\"].lower().replace(\".\", \"_\"))\n",
    "    print(item[\"url\"])\n",
    "    print(\"-\"*40)\n",
    "#     dst_path = os.path.join(dst_dir, item[\"name\"].lower().replace(\".\", \"_\"))\n",
    "#     os.makedirs(dst_path, exist_ok=True)\n",
    "#     item[\"download\"](dst_path)"
   ]
  },
  {
   "cell_type": "code",
   "execution_count": null,
   "id": "fe693a65",
   "metadata": {},
   "outputs": [],
   "source": []
  },
  {
   "cell_type": "code",
   "execution_count": null,
   "id": "53b973d9",
   "metadata": {},
   "outputs": [],
   "source": []
  },
  {
   "cell_type": "code",
   "execution_count": null,
   "id": "92a694bd",
   "metadata": {},
   "outputs": [],
   "source": []
  },
  {
   "cell_type": "markdown",
   "id": "ec62e7f6",
   "metadata": {},
   "source": [
    "# Attack"
   ]
  },
  {
   "cell_type": "code",
   "execution_count": null,
   "id": "f01df3f7",
   "metadata": {},
   "outputs": [],
   "source": [
    "import torch\n",
    "from  torch.nn.parallel import DataParallel as DP"
   ]
  },
  {
   "cell_type": "code",
   "execution_count": null,
   "id": "b4212367",
   "metadata": {},
   "outputs": [],
   "source": [
    "device = torch.device(\"cuda\") if torch.cuda.is_available() else torch.device(\"cpu\")"
   ]
  },
  {
   "cell_type": "code",
   "execution_count": null,
   "id": "a61b19f0",
   "metadata": {},
   "outputs": [],
   "source": [
    "device"
   ]
  },
  {
   "cell_type": "code",
   "execution_count": null,
   "id": "c84b335d",
   "metadata": {},
   "outputs": [],
   "source": [
    "def dataset_mapping(x):\n",
    "    return {\n",
    "        \"x\": x[\"sentence\"],\n",
    "        \"y\": 1 if x[\"label\"] > 0.5 else 0,\n",
    "    }"
   ]
  },
  {
   "cell_type": "code",
   "execution_count": null,
   "id": "21b2a920",
   "metadata": {},
   "outputs": [],
   "source": [
    "import OpenAttack as oa\n",
    "import datasets\n",
    "# choose a trained victim classification model\n",
    "# victim = oa.DataManager.load(\"Victim.BERT.SST\")\n",
    "victim = oa.DataManager.load(\"Victim.ROBERTA.SST\")"
   ]
  },
  {
   "cell_type": "code",
   "execution_count": null,
   "id": "df593345",
   "metadata": {},
   "outputs": [],
   "source": [
    "# choose an evaluation dataset \n",
    "dataset = datasets.load_dataset(\"sst\", split=\"train[:100]\").map(function=dataset_mapping)"
   ]
  },
  {
   "cell_type": "code",
   "execution_count": null,
   "id": "de0d3728",
   "metadata": {},
   "outputs": [],
   "source": [
    "type(victim)"
   ]
  },
  {
   "cell_type": "code",
   "execution_count": null,
   "id": "de7ebed5",
   "metadata": {},
   "outputs": [],
   "source": [
    "# victim.to(device)"
   ]
  },
  {
   "cell_type": "code",
   "execution_count": null,
   "id": "8d44170c",
   "metadata": {},
   "outputs": [],
   "source": [
    "# victim = DP(victim)"
   ]
  },
  {
   "cell_type": "code",
   "execution_count": null,
   "id": "5be0f955",
   "metadata": {},
   "outputs": [],
   "source": [
    "type(victim)"
   ]
  },
  {
   "cell_type": "code",
   "execution_count": null,
   "id": "f969e7eb",
   "metadata": {},
   "outputs": [],
   "source": []
  },
  {
   "cell_type": "code",
   "execution_count": null,
   "id": "982123db",
   "metadata": {},
   "outputs": [],
   "source": [
    "# choose Genetic as the attacker and initialize it with default parameters\n",
    "attacker = oa.attackers.GeneticAttacker() \n",
    "# prepare for attacking\n",
    "attack_eval = oa.attack_evals.DefaultAttackEval(attacker, victim)\n",
    "# launch attacks and print attack results \n",
    "attack_eval.eval(dataset, visualize=True)"
   ]
  },
  {
   "cell_type": "code",
   "execution_count": null,
   "id": "81fb5fc8",
   "metadata": {},
   "outputs": [],
   "source": []
  },
  {
   "cell_type": "code",
   "execution_count": null,
   "id": "b8da60d3",
   "metadata": {},
   "outputs": [],
   "source": []
  },
  {
   "cell_type": "code",
   "execution_count": null,
   "id": "7567ac67",
   "metadata": {},
   "outputs": [],
   "source": []
  },
  {
   "cell_type": "code",
   "execution_count": null,
   "id": "396ebf6a",
   "metadata": {},
   "outputs": [],
   "source": []
  }
 ],
 "metadata": {
  "kernelspec": {
   "display_name": "Python 3",
   "language": "python",
   "name": "python3"
  },
  "language_info": {
   "codemirror_mode": {
    "name": "ipython",
    "version": 3
   },
   "file_extension": ".py",
   "mimetype": "text/x-python",
   "name": "python",
   "nbconvert_exporter": "python",
   "pygments_lexer": "ipython3",
   "version": "3.6.9"
  }
 },
 "nbformat": 4,
 "nbformat_minor": 5
}
